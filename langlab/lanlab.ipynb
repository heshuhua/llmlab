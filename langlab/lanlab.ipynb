{
 "cells": [
  {
   "cell_type": "code",
   "execution_count": 1,
   "id": "ef84311e",
   "metadata": {},
   "outputs": [],
   "source": [
    "from langchain_ollama import OllamaLLM\n",
    "from langchain.output_parsers import CommaSeparatedListOutputParser\n",
    "\n",
    "\n",
    "llm = OllamaLLM(\n",
    "    model=\"llama3.1:latest\",\n",
    ")\n",
    "\n",
    "\n"
   ]
  },
  {
   "cell_type": "code",
   "execution_count": 6,
   "id": "6924b731",
   "metadata": {},
   "outputs": [
    {
     "name": "stdout",
     "output_type": "stream",
     "text": [
      "你是一个资深的银行柜员，请按照以下步骤提取描述信息：先识别客户要做什么交易，比如取款的交易码 那 pode=200101；再识别客户的交易金额，比如取2000元，那amount=2000，最后返回结果，pcode=200101,amount=2000, 客户输入如下张三拿着邮储的胖卡，到柜面，要取款5000元返回的输出格式为包含一下内容的json字符串，如果没有找到的类型，保持为空\n",
      " pcode=200101，amount=2000元\n"
     ]
    }
   ],
   "source": [
    "from langchain import PromptTemplate\n",
    "prompt_template2 = PromptTemplate.from_template(\n",
    "\n",
    "    \"你是一个资深的银行柜员，请按照以下步骤提取描述信息：\" \\\n",
    "    \"先识别客户要做什么交易，比如取款的交易码 那 pode=200101；\" \\\n",
    "    \"再识别客户的交易金额，比如取2000元，那amount=2000，\" \\\n",
    "    \"最后返回结果，pcode=200101,amount=2000, 客户输入如下{content}\" \\\n",
    "    \"返回的输出格式为包含一下内容的json字符串，如果没有找到的类型，保持为空\" \\\n",
    "    \"\\n pcode=200101，amount=2000元\"\n",
    ")\n",
    "\n",
    "inputContent=\"张三拿着邮储的胖卡，到柜面，要取款5000元\"\n",
    "prompt2= prompt_template2.format(content=inputContent)\n",
    "print(prompt2)"
   ]
  },
  {
   "cell_type": "code",
   "execution_count": 7,
   "id": "aebabba4",
   "metadata": {},
   "outputs": [
    {
     "name": "stdout",
     "output_type": "stream",
     "text": [
      "很好！作为一个资深的银行柜员，我将按照您的要求提取描述信息。根据客户的输入，我可以识别出交易码和交易金额。\n",
      "\n",
      "首先，我将识别客户要做什么交易。由于客户拿着邮储的卡片，到柜面，要取款，所以交易码是：pcode = 200101（取款）\n",
      "\n",
      "接下来，我将识别客户的交易金额。客户要取5000元，因此amount = 5000\n",
      "\n",
      "最后，我需要返回结果。如果没有找到的类型，保持为空。\n",
      "\n",
      "以下是客户输入对应的JSON字符串：\n",
      "\n",
      "```\n",
      "{\n",
      "    \"pcode\": \"200101\",\n",
      "    \"amount\": \"5000\"\n",
      "}\n",
      "```\n",
      "\n",
      "这是客户输入对应的提取描述信息。\n"
     ]
    }
   ],
   "source": [
    "print(llm(prompt2))"
   ]
  },
  {
   "cell_type": "code",
   "execution_count": null,
   "id": "8a940af0",
   "metadata": {},
   "outputs": [],
   "source": []
  }
 ],
 "metadata": {
  "kernelspec": {
   "display_name": "dgai",
   "language": "python",
   "name": "python3"
  },
  "language_info": {
   "codemirror_mode": {
    "name": "ipython",
    "version": 3
   },
   "file_extension": ".py",
   "mimetype": "text/x-python",
   "name": "python",
   "nbconvert_exporter": "python",
   "pygments_lexer": "ipython3",
   "version": "3.12.9"
  }
 },
 "nbformat": 4,
 "nbformat_minor": 5
}
