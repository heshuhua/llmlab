{
 "cells": [
  {
   "cell_type": "markdown",
   "id": "7404c40f",
   "metadata": {},
   "source": [
    "### 使用seqchain来实现判断存款还是取款"
   ]
  },
  {
   "cell_type": "code",
   "execution_count": 7,
   "id": "a3af7ec9",
   "metadata": {},
   "outputs": [],
   "source": [
    "from langchain_ollama import OllamaLLM\n",
    "from langchain.prompts import PromptTemplate\n",
    "from langchain.chains import LLMChain\n",
    "\n",
    "llm = OllamaLLM(model=\"llama3.1:latest\",temperature=0.9)\n",
    "\n",
    "\n",
    "prompt = PromptTemplate(\n",
    "    input_variables=[\"title\"],\n",
    "    template=\"\"\"你是一位剧作家。根据戏剧的标题，你的任务是为该标题写一个简介。\n",
    "    标题：{title}\n",
    "    剧作家：以下是对上述戏剧的简介：\"\"\"\n",
    ")\n",
    "synopsis_chain=LLMChain(llm=llm,prompt=prompt)\n"
   ]
  },
  {
   "cell_type": "code",
   "execution_count": 8,
   "id": "4398e017",
   "metadata": {},
   "outputs": [],
   "source": [
    "from langchain.chains import LLMChain\n",
    "\n",
    "\n",
    "\n",
    "template = \"\"\"你是《纽约时报》的戏剧评论家。根据剧情简介，你的工作是为该剧撰写一篇评论。\n",
    "\n",
    "剧情简介：\n",
    "{synopsis}\n",
    "\n",
    "以下是来自《纽约时报》戏剧评论家对上述剧目的评论：\"\"\"\n",
    "prompt_template = PromptTemplate(input_variables=[\"synopsis\"],template=template)\n",
    "review_chain = LLMChain(llm=llm,prompt=prompt_template)\n",
    "\n"
   ]
  },
  {
   "cell_type": "code",
   "execution_count": 9,
   "id": "57ca219d",
   "metadata": {},
   "outputs": [
    {
     "name": "stdout",
     "output_type": "stream",
     "text": [
      "\n",
      "\n",
      "\u001b[1m> Entering new SimpleSequentialChain chain...\u001b[0m\n",
      "\u001b[36;1m\u001b[1;3m这是我的一出名为《三体人是不可战胜》的戏剧简介：\n",
      "\n",
      "故事发生在21世纪的未来世界，人类遭到了来自外星球来的三个巨型生物——所谓的“三体人”的进攻。这些生物比地球上所有动物和植物都大得多，它们对宇宙有着神奇的感知力，可以从几百光年之外的地方找到地球，并在几个小时内抵达地球。他们的到来让人类面临灭绝的危险。\n",
      "\n",
      "剧中的人物包括科学家、军队指挥官和平民，他们都试图找到抵抗三体人的方法，但无论如何，结果是悲伤的。这是关于人性的思考：我们会选择与“三体人”战斗直到最后一刻，还是放弃地球的自豪，并寻求逃离。\u001b[0m\n",
      "\u001b[33;1m\u001b[1;3m《三体人是不战胜的》，一部令人振奋的未来主义冒险故事。通过讲述人类在面临灭绝之际的情绪和道德困境，这出戏捕捉到了人性的复杂性，呈现了一场关于存在、自豪以及选择何时放弃的激烈争论。\n",
      "\n",
      "演员们表现出色，他们扮演了那些在抵抗外星生物中努力奋斗的人物。他们展现出了深度的情感交流和细腻的表演技巧，使这部戏剧充满动力、真实性和令人难忘的瞬间。\n",
      "\n",
      "导演的确立了一个强有力的视觉风格，让三体人的威胁更加令人生畏和紧迫。他们也在创造出人类的日常生活中所存在的恐惧感，并在观众的心中留下了深刻的印象。\n",
      "\n",
      "剧本充满了想象力，描绘了一种未来世界，在这幅画布上的人类命运具有着广泛的影响。通过对人性的细致而微妙的描写，这部戏剧让我们思考我们的行为、选择以及我们为了保护我们所热爱的事物愿意付出多少。\n",
      "\n",
      "如果你喜欢想象力丰富的故事，且感兴趣于探索人类在面临末日之际的情绪和道德困境，那么《三体人是不战胜的》必定是一场难忘的经历。\u001b[0m\n",
      "\n",
      "\u001b[1m> Finished chain.\u001b[0m\n"
     ]
    }
   ],
   "source": [
    "from langchain.chains import SimpleSequentialChain\n",
    "overall_chain = SimpleSequentialChain(chains=[synopsis_chain,review_chain],verbose=True)\n",
    "\n",
    "review = overall_chain.invoke(\"三体人是不可战胜的\")"
   ]
  },
  {
   "cell_type": "code",
   "execution_count": null,
   "id": "ae7072bc",
   "metadata": {},
   "outputs": [],
   "source": []
  }
 ],
 "metadata": {
  "kernelspec": {
   "display_name": "dgai",
   "language": "python",
   "name": "python3"
  },
  "language_info": {
   "codemirror_mode": {
    "name": "ipython",
    "version": 3
   },
   "file_extension": ".py",
   "mimetype": "text/x-python",
   "name": "python",
   "nbconvert_exporter": "python",
   "pygments_lexer": "ipython3",
   "version": "3.12.9"
  }
 },
 "nbformat": 4,
 "nbformat_minor": 5
}
