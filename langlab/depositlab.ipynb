{
 "cells": [
  {
   "cell_type": "code",
   "execution_count": 6,
   "id": "ef84311e",
   "metadata": {},
   "outputs": [],
   "source": [
    "from langchain_ollama import OllamaLLM\n",
    "from langchain.output_parsers import CommaSeparatedListOutputParser\n",
    "\n",
    "\n",
    "llm = OllamaLLM(\n",
    "    model=\"llama3.1:latest\",\n",
    ")\n",
    "\n",
    "\n"
   ]
  },
  {
   "cell_type": "code",
   "execution_count": null,
   "id": "6924b731",
   "metadata": {},
   "outputs": [
    {
     "name": "stdout",
     "output_type": "stream",
     "text": [
      "你是一个资深的银行柜员，请按照以下步骤提取描述信息：先识别客户的姓名，比如叫张三，username=张三再识别客户张三要做什么交易，比如存款，它的交易码 那 pode=200102；再识别客户张三的交易金额，比如存2000元，那amount=2000，最后返回结果，pcode=200102,amount=2000, 客户输入如下李丽丽拿着邮储的胖卡，到柜面，要存款100元返回的输出格式为包含一下内容的json字符串，如果没有找到的类型，保持为空\n",
      " username=张三, pcode=200102，amount=2000元\n"
     ]
    }
   ],
   "source": [
    "from langchain import PromptTemplate\n",
    "prompt_template2 = PromptTemplate.from_template(\n",
    "\n",
    "    \"你是一个资深的银行柜员，请按照以下步骤提取描述信息：先识别客户的姓名，比如叫张三，username=张三\" \\\n",
    "    \"再识别客户张三要做什么交易，比如存款，它的交易码 那 pode=200102；\" \\\n",
    "    \"再识别客户张三的交易金额，比如存2000元，那amount=2000，\" \\\n",
    "    \"最后返回结果，username=张三,pcode=200102,amount=2000, 客户输入如下{content}\" \\\n",
    "    \"返回的输出格式为包含一下内容的json字符串，如果没有找到的类型，保持为空\" \\\n",
    "    \"\\n username=张三, pcode=200102，amount=2000元\"\n",
    ")\n",
    "\n",
    "inputContent=\"李丽丽拿着邮储的胖卡，到柜面，要存款100元\"\n",
    "prompt2= prompt_template2.format(content=inputContent)\n",
    "print(prompt2)"
   ]
  },
  {
   "cell_type": "code",
   "execution_count": 10,
   "id": "aebabba4",
   "metadata": {},
   "outputs": [
    {
     "name": "stdout",
     "output_type": "stream",
     "text": [
      "我可以按照你的要求来实现这个功能。以下是步骤：\n",
      "\n",
      "1. 根据客户姓名识别username：\n",
      "```python\n",
      "username = \"李丽丽\"\n",
      "```\n",
      "\n",
      "2. 根据客户的交易类型（存款）识别pcode（交易码）：\n",
      "```python\n",
      "pcode = 200102  # 存款交易码\n",
      "```\n",
      "\n",
      "3. 根据客户的交易金额识别amount：\n",
      "```python\n",
      "amount = 100  # 客户要存入的金额\n",
      "```\n",
      "\n",
      "4. 返回结果，包含username、pcode和amount：\n",
      "```json\n",
      "{\n",
      "    \"username\": \"李丽丽\",\n",
      "    \"pcode\": 200102,\n",
      "    \"amount\": 100\n",
      "}\n",
      "```\n",
      "代码实现如下：\n",
      "```python\n",
      "def extract_info(username, pcode, amount):\n",
      "    # 根据客户姓名识别username\n",
      "    username = username\n",
      "\n",
      "    # 根据客户的交易类型（存款）识别pcode（交易码）\n",
      "    if pcode == \"存款\":\n",
      "        pcode = 200102  # 存款交易码\n",
      "    elif pcode == \"取款\":\n",
      "        pcode = 200103  # 取款交易码\n",
      "\n",
      "    # 根据客户的交易金额识别amount\n",
      "    amount = int(amount)\n",
      "\n",
      "    # 返回结果，包含username、pcode和amount\n",
      "    result = {\n",
      "        \"username\": username,\n",
      "        \"pcode\": pcode,\n",
      "        \"amount\": amount\n",
      "    }\n",
      "\n",
      "    return result\n",
      "\n",
      "# 测试用例\n",
      "username = \"李丽丽\"\n",
      "pcode = \"存款\"\n",
      "amount = 100\n",
      "result = extract_info(username, pcode, str(amount))\n",
      "print(result)\n",
      "```\n",
      "输出结果：\n",
      "```json\n",
      "{\n",
      "    \"username\": \"李丽丽\",\n",
      "    \"pcode\": 200102,\n",
      "    \"amount\": 100\n",
      "}\n",
      "```\n"
     ]
    }
   ],
   "source": [
    "print(llm(prompt2))"
   ]
  },
  {
   "cell_type": "code",
   "execution_count": null,
   "id": "8a940af0",
   "metadata": {},
   "outputs": [],
   "source": []
  }
 ],
 "metadata": {
  "kernelspec": {
   "display_name": "dgai",
   "language": "python",
   "name": "python3"
  },
  "language_info": {
   "codemirror_mode": {
    "name": "ipython",
    "version": 3
   },
   "file_extension": ".py",
   "mimetype": "text/x-python",
   "name": "python",
   "nbconvert_exporter": "python",
   "pygments_lexer": "ipython3",
   "version": "3.12.9"
  }
 },
 "nbformat": 4,
 "nbformat_minor": 5
}
