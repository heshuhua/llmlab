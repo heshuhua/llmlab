{
 "cells": [
  {
   "cell_type": "markdown",
   "id": "7404c40f",
   "metadata": {},
   "source": [
    "### 使用chain来实现判断存款还是取款"
   ]
  },
  {
   "cell_type": "code",
   "execution_count": 1,
   "id": "a3af7ec9",
   "metadata": {},
   "outputs": [],
   "source": [
    "from langchain_ollama import OllamaLLM\n",
    "from langchain.prompts import PromptTemplate\n",
    "\n",
    "llm = OllamaLLM(model=\"llama3.1:latest\",temperature=0.9)\n",
    "\n",
    "prompt = PromptTemplate(\n",
    "    input_variables=[\"product\"],\n",
    "    template=\"给制造{product}的公司取10个好名字，并给出完整的公司名字\"\n",
    ")"
   ]
  },
  {
   "cell_type": "code",
   "execution_count": null,
   "id": "4398e017",
   "metadata": {},
   "outputs": [
    {
     "name": "stderr",
     "output_type": "stream",
     "text": [
      "/var/folders/d2/53ktn_cx29s3lgscw2q2k0tc0000gn/T/ipykernel_80895/4115939641.py:3: LangChainDeprecationWarning: The class `LLMChain` was deprecated in LangChain 0.1.17 and will be removed in 1.0. Use :meth:`~RunnableSequence, e.g., `prompt | llm`` instead.\n",
      "  chain=LLMChain(llm=llm,prompt=prompt)\n"
     ]
    },
    {
     "name": "stdout",
     "output_type": "stream",
     "text": [
      "{'product': '性能卓越的GPU', 'text': '1.  **Apexion Microsystems**：这个名字凸显了高级性能和先进的微处理器技术。\\n2.  **Nexarion Technologies**：\"Nexarion\"这个词与\"连接\"和\"卓越性能\"联系在一起，暗示公司提供高端GPU产品。\\n3.  **Apexion Computing**：这一个名称强调了GPU高性能的方面，并且简洁明了。\\n4.  **Celeritas Labs**：\"Celeritas\"是一种拉丁词，意为快速或迅速，这让人联想到高效的GPU技术。\\n5.  **Elevon Systems**：这个名字强调了高性能和超越期望的目标，并且很容易记住。\\n6.  **Axiom Graphics**：这个名称结合了\"axiom\"（基本原理）和\"graphics\"，暗示公司致力于GPU图形处理领域。\\n7.  **Cygnus Computing**：名字引用天鹅座的英文缩写，这让人联想到高性能和强大的计算能力。\\n8.  **Pulsar Microsystems**：这个名字结合了极光（代表激情）和微处理器，这让人感到生动活泼且强调高性能。\\n9.  **Nirix Systems**：这一个名称简洁明了，并暗示GPU产品以卓越的性能而闻名。\\n10. **Apexion Innovations**: 这个名字强调了公司致力于创新和研发高性能GPU技术。'}\n"
     ]
    }
   ],
   "source": [
    "from langchain.chains import LLMChain\n",
    "\n",
    "chain=LLMChain(llm=llm,prompt=prompt)\n"
   ]
  },
  {
   "cell_type": "code",
   "execution_count": 3,
   "id": "6a9cbc1d",
   "metadata": {},
   "outputs": [
    {
     "name": "stdout",
     "output_type": "stream",
     "text": [
      "\n",
      "\n",
      "\u001b[1m> Entering new LLMChain chain...\u001b[0m\n",
      "Prompt after formatting:\n",
      "\u001b[32;1m\u001b[1;3m给制造性能卓越的GPU的公司取10个好名字，并给出完整的公司名字\u001b[0m\n",
      "\n",
      "\u001b[1m> Finished chain.\u001b[0m\n",
      "{'product': '性能卓越的GPU', 'text': '这里是给制造性能卓越的GPU公司的10个建议：\\n\\n1.  **Nexarion Technologies**\\n2.  **Apexion Systems**\\n3.  **Pulsar Computing Co., Ltd.**\\n4.  **Aurora Graphics Solutions, Inc.**\\n5.  **Velocity GPU Corporation**\\n6.  **Teralon Semiconductor Company**\\n7.  **Cygnus Graphics Processors Inc.**\\n8.  **Eonix Performance Technologies LLC**\\n9.  **Paragon Computing Hardware, Inc.**\\n10. **Kairos Chipsets International**\\n\\n请注意，这些名字是建议性的，并且不一定反映现实公司的名称或产品。'}\n"
     ]
    }
   ],
   "source": [
    "chain.verbose=True\n",
    "print(chain.invoke({\n",
    "    'product':\"性能卓越的GPU\"\n",
    "}))"
   ]
  },
  {
   "cell_type": "code",
   "execution_count": null,
   "id": "a7407fb2",
   "metadata": {},
   "outputs": [],
   "source": []
  }
 ],
 "metadata": {
  "kernelspec": {
   "display_name": "dgai",
   "language": "python",
   "name": "python3"
  },
  "language_info": {
   "codemirror_mode": {
    "name": "ipython",
    "version": 3
   },
   "file_extension": ".py",
   "mimetype": "text/x-python",
   "name": "python",
   "nbconvert_exporter": "python",
   "pygments_lexer": "ipython3",
   "version": "3.12.9"
  }
 },
 "nbformat": 4,
 "nbformat_minor": 5
}
