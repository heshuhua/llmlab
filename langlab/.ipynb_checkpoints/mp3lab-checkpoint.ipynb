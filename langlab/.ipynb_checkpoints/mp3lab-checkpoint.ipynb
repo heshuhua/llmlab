{
 "cells": [
  {
   "cell_type": "code",
   "execution_count": null,
   "id": "bc199f94-2b69-4a9d-aa88-034d5542b6f5",
   "metadata": {},
   "outputs": [],
   "source": [
    "from langchain.chains import LLMChain\n",
    "from langchain.llms import OpenAI\n",
    "from langchain.prompts import PromptTemplate\n",
    "from langchain.memory import ConversationBufferMemory\n",
    "from langchain.utilities import WhisperAPIWrapper\n",
    "\n",
    "# 初始化 Whisper API Wrapper\n",
    "whisper = WhisperAPIWrapper()\n",
    "\n",
    "# 你的音频文件路径\n",
    "audio_file_path = \"your_audio_file.mp3\"\n",
    "\n",
    "# 使用 Whisper 转录音频\n",
    "transcript = whisper.run(audio_file_path)\n",
    "print(f\"转录结果: {transcript}\")\n",
    "\n",
    "# 将转录结果用于后续的 Langchain 操作 (例如，作为 LLMChain 的输入)\n",
    "template = \"\"\"基于以下语音转录内容，回答用户的问题：\n",
    "转录内容: {transcript}\n",
    "用户问题: {question}\n",
    "答案:\"\"\"\n",
    "\n",
    "prompt = PromptTemplate(template=template, input_variables=[\"transcript\", \"question\"])\n",
    "llm = OpenAI()\n",
    "memory = ConversationBufferMemory(input_key=\"question\", memory_key=\"chat_history\")\n",
    "conversation = LLMChain(llm=llm, prompt=prompt, memory=memory)\n",
    "\n",
    "user_question = \"这段录音主要讲了什么？\"\n",
    "response = conversation.predict(transcript=transcript, question=user_question)\n",
    "print(f\"LLM 回答: {response}\")"
   ]
  }
 ],
 "metadata": {
  "kernelspec": {
   "display_name": "Python 3 (ipykernel)",
   "language": "python",
   "name": "python3"
  },
  "language_info": {
   "codemirror_mode": {
    "name": "ipython",
    "version": 3
   },
   "file_extension": ".py",
   "mimetype": "text/x-python",
   "name": "python",
   "nbconvert_exporter": "python",
   "pygments_lexer": "ipython3",
   "version": "3.12.9"
  }
 },
 "nbformat": 4,
 "nbformat_minor": 5
}
