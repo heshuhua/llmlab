{
 "cells": [
  {
   "cell_type": "code",
   "execution_count": 3,
   "id": "df76c891-32d4-4214-af7a-a9407158ef99",
   "metadata": {},
   "outputs": [],
   "source": [
    "a=(3+2j)*(2+3j)"
   ]
  },
  {
   "cell_type": "code",
   "execution_count": 4,
   "id": "11e1f712-b328-4519-b80f-a6943b13cbdb",
   "metadata": {},
   "outputs": [
    {
     "data": {
      "text/plain": [
       "0.0"
      ]
     },
     "execution_count": 4,
     "metadata": {},
     "output_type": "execute_result"
    }
   ],
   "source": [
    "a.real"
   ]
  },
  {
   "cell_type": "code",
   "execution_count": 5,
   "id": "8688a9a1-6567-41ee-977f-5f48095d1bb7",
   "metadata": {},
   "outputs": [
    {
     "data": {
      "text/plain": [
       "13.0"
      ]
     },
     "execution_count": 5,
     "metadata": {},
     "output_type": "execute_result"
    }
   ],
   "source": [
    "a.imag"
   ]
  },
  {
   "cell_type": "code",
   "execution_count": 6,
   "id": "5f7675a1-b8c5-489b-b901-7531555937a4",
   "metadata": {},
   "outputs": [
    {
     "data": {
      "text/plain": [
       "13j"
      ]
     },
     "execution_count": 6,
     "metadata": {},
     "output_type": "execute_result"
    }
   ],
   "source": [
    "a"
   ]
  },
  {
   "cell_type": "code",
   "execution_count": 7,
   "id": "62b3c510-5093-44e5-a052-6152897b56a7",
   "metadata": {},
   "outputs": [
    {
     "data": {
      "text/plain": [
       "3"
      ]
     },
     "execution_count": 7,
     "metadata": {},
     "output_type": "execute_result"
    }
   ],
   "source": [
    "round(3.49)\n"
   ]
  },
  {
   "cell_type": "code",
   "execution_count": 8,
   "id": "150ad959-5132-4428-8b19-11fa2785240c",
   "metadata": {},
   "outputs": [],
   "source": [
    "import math"
   ]
  },
  {
   "cell_type": "code",
   "execution_count": 9,
   "id": "9865b5e0-5f64-42de-ae77-88d4c2f8035d",
   "metadata": {},
   "outputs": [
    {
     "data": {
      "text/plain": [
       "4"
      ]
     },
     "execution_count": 9,
     "metadata": {},
     "output_type": "execute_result"
    }
   ],
   "source": [
    "math.ceil(3.49)"
   ]
  },
  {
   "cell_type": "code",
   "execution_count": 10,
   "id": "46b8e1c9-5c5e-4c93-8e5b-f098586782fe",
   "metadata": {},
   "outputs": [],
   "source": [
    "x={1:\"one\",2:\"two\"}"
   ]
  },
  {
   "cell_type": "code",
   "execution_count": 11,
   "id": "fbd9edaf-43ae-480d-a068-6bdb284982b1",
   "metadata": {},
   "outputs": [
    {
     "data": {
      "text/plain": [
       "{1: 'one', 2: 'two'}"
      ]
     },
     "execution_count": 11,
     "metadata": {},
     "output_type": "execute_result"
    }
   ],
   "source": [
    "x"
   ]
  },
  {
   "cell_type": "code",
   "execution_count": 12,
   "id": "98ce645e-c1d0-42c4-934c-8278e2038df0",
   "metadata": {},
   "outputs": [],
   "source": [
    "x[\"first\"]=5"
   ]
  },
  {
   "cell_type": "code",
   "execution_count": 13,
   "id": "e94e7fd5-c2ac-46a8-b896-edce548b99a0",
   "metadata": {},
   "outputs": [
    {
     "data": {
      "text/plain": [
       "{1: 'one', 2: 'two', 'first': 5}"
      ]
     },
     "execution_count": 13,
     "metadata": {},
     "output_type": "execute_result"
    }
   ],
   "source": [
    "x"
   ]
  },
  {
   "cell_type": "code",
   "execution_count": 14,
   "id": "9750f69d-e8b3-413f-8593-2454a6d87b9e",
   "metadata": {},
   "outputs": [
    {
     "ename": "NameError",
     "evalue": "name 'get' is not defined",
     "output_type": "error",
     "traceback": [
      "\u001b[0;31m---------------------------------------------------------------------------\u001b[0m",
      "\u001b[0;31mNameError\u001b[0m                                 Traceback (most recent call last)",
      "Cell \u001b[0;32mIn[14], line 1\u001b[0m\n\u001b[0;32m----> 1\u001b[0m get(\u001b[38;5;241m1\u001b[39m)\n",
      "\u001b[0;31mNameError\u001b[0m: name 'get' is not defined"
     ]
    }
   ],
   "source": [
    "get(1)"
   ]
  },
  {
   "cell_type": "code",
   "execution_count": 15,
   "id": "11807295-b87f-461b-93b2-aed6fdd7c028",
   "metadata": {},
   "outputs": [
    {
     "data": {
      "text/plain": [
       "'one'"
      ]
     },
     "execution_count": 15,
     "metadata": {},
     "output_type": "execute_result"
    }
   ],
   "source": [
    "x.get(1,\"not\")"
   ]
  },
  {
   "cell_type": "code",
   "execution_count": 16,
   "id": "480a1e5d-070f-4ec2-ab0e-f0fc03e51b11",
   "metadata": {},
   "outputs": [
    {
     "data": {
      "text/plain": [
       "'not'"
      ]
     },
     "execution_count": 16,
     "metadata": {},
     "output_type": "execute_result"
    }
   ],
   "source": [
    "x.get(5,\"not\")"
   ]
  },
  {
   "cell_type": "code",
   "execution_count": 17,
   "id": "7be522af-1033-4acf-9700-14993947c7ca",
   "metadata": {},
   "outputs": [],
   "source": [
    "z=([2,3,4,5,6])"
   ]
  },
  {
   "cell_type": "code",
   "execution_count": 18,
   "id": "f44c464a-c052-49f4-b819-a5e8b8685d67",
   "metadata": {},
   "outputs": [
    {
     "data": {
      "text/plain": [
       "[2, 3, 4, 5, 6]"
      ]
     },
     "execution_count": 18,
     "metadata": {},
     "output_type": "execute_result"
    }
   ],
   "source": [
    "z"
   ]
  },
  {
   "cell_type": "code",
   "execution_count": 19,
   "id": "17a1fc99-25b7-4cfb-a85a-c5b4d6455117",
   "metadata": {},
   "outputs": [
    {
     "data": {
      "text/plain": [
       "True"
      ]
     },
     "execution_count": 19,
     "metadata": {},
     "output_type": "execute_result"
    }
   ],
   "source": [
    "2 in z"
   ]
  },
  {
   "cell_type": "code",
   "execution_count": 20,
   "id": "6f3c6b1b-b1fb-4729-92eb-7ac3c58f9839",
   "metadata": {},
   "outputs": [
    {
     "data": {
      "text/plain": [
       "False"
      ]
     },
     "execution_count": 20,
     "metadata": {},
     "output_type": "execute_result"
    }
   ],
   "source": [
    "a in z"
   ]
  },
  {
   "cell_type": "code",
   "execution_count": 26,
   "id": "38d497c0-0b5a-452d-ace4-ea90c016701e",
   "metadata": {},
   "outputs": [],
   "source": [
    "f = open(\"myfile.txt\",\"w\")"
   ]
  },
  {
   "cell_type": "code",
   "execution_count": 27,
   "id": "8cf5200d-cde7-46ae-8683-f7d89b1c8759",
   "metadata": {},
   "outputs": [],
   "source": [
    "f.writelines(\"中文\")"
   ]
  },
  {
   "cell_type": "code",
   "execution_count": 28,
   "id": "afc831cf-19f2-4a0c-9f95-380905c6c073",
   "metadata": {},
   "outputs": [],
   "source": [
    "f.close()"
   ]
  },
  {
   "cell_type": "code",
   "execution_count": 29,
   "id": "c5aabebd-159f-491d-819c-980e9718c969",
   "metadata": {},
   "outputs": [
    {
     "name": "stdout",
     "output_type": "stream",
     "text": [
      "/Users/heshuhua/lab/ailab/llmlab/pythonlab\n"
     ]
    }
   ],
   "source": [
    "import os\n",
    "directory = os.getcwd()\n",
    "print(directory)"
   ]
  },
  {
   "cell_type": "code",
   "execution_count": 30,
   "id": "23a0425d-27d3-4a52-a3c1-247472e676c1",
   "metadata": {},
   "outputs": [
    {
     "name": "stdout",
     "output_type": "stream",
     "text": [
      "1 2 3 {'m': 5, 'n': 0}\n"
     ]
    }
   ],
   "source": [
    "def fun4(x,y=1,z=1,**keys):\n",
    "    print(x,y,z,keys)\n",
    "fun4(1,2,m=5,n=0,z=3)"
   ]
  },
  {
   "cell_type": "code",
   "execution_count": 33,
   "id": "5e043c12-0fc8-451d-b6e1-5746071c8e90",
   "metadata": {},
   "outputs": [
    {
     "name": "stdout",
     "output_type": "stream",
     "text": [
      "myfile1.txt: is empty\n",
      "done file myfile1.txt\n",
      "non_existent:could not be opened:No such file or directory\n",
      "done file non_existent\n",
      "empty_file:could not be opened:No such file or directory\n",
      "done file empty_file\n",
      "myfile2.txt:could not be opened:No such file or directory\n",
      "done file myfile2.txt\n"
     ]
    }
   ],
   "source": [
    "class EmptyFileError(Exception):\n",
    "    pass\n",
    "file_names=[\"myfile1.txt\",\"non_existent\",\"empty_file\",\"myfile2.txt\"]\n",
    "for file_name in file_names:\n",
    "    try:\n",
    "        file=open(file_name,'r')\n",
    "        line=file.readline()\n",
    "        if line==\"\":\n",
    "            file.close()\n",
    "            raise EmptyFileError(f\"{file_name}: is empty\")\n",
    "    except IOError as error:\n",
    "        print(f\"{file_name}:could not be opened:{error.strerror}\")\n",
    "    except EmptyFileError as error:\n",
    "        print(error)\n",
    "    else:\n",
    "        print(f\"{file_name}:{line}\")\n",
    "    finally:\n",
    "        print(\"done file\",file_name)"
   ]
  },
  {
   "cell_type": "code",
   "execution_count": null,
   "id": "70788d91-7c72-4b1f-ba27-3075451c96ee",
   "metadata": {},
   "outputs": [],
   "source": []
  }
 ],
 "metadata": {
  "kernelspec": {
   "display_name": "Python 3 (ipykernel)",
   "language": "python",
   "name": "python3"
  },
  "language_info": {
   "codemirror_mode": {
    "name": "ipython",
    "version": 3
   },
   "file_extension": ".py",
   "mimetype": "text/x-python",
   "name": "python",
   "nbconvert_exporter": "python",
   "pygments_lexer": "ipython3",
   "version": "3.12.9"
  }
 },
 "nbformat": 4,
 "nbformat_minor": 5
}
